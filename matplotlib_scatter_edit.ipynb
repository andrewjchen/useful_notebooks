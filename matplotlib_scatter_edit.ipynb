{
 "metadata": {
  "name": ""
 },
 "nbformat": 3,
 "nbformat_minor": 0,
 "worksheets": [
  {
   "cells": [
    {
     "cell_type": "markdown",
     "metadata": {},
     "source": [
      "matplotlib_scatter_edit\n",
      "=======================\n",
      "\n",
      "Demonstrates how to edit scatter plots."
     ]
    },
    {
     "cell_type": "code",
     "collapsed": false,
     "input": [
      "xs = [0, 1, 2, 3, 4, 5]\n",
      "ys = [0, 5, 1, 4, 2, 3]"
     ],
     "language": "python",
     "metadata": {},
     "outputs": [],
     "prompt_number": 1
    },
    {
     "cell_type": "code",
     "collapsed": false,
     "input": [
      "import numpy as np\n",
      "from mpl_toolkits.mplot3d import Axes3D\n",
      "import matplotlib.pyplot as plt\n",
      "#pylab.rcParams['figure.figsize'] = (10.0, 8.0)\n",
      "fig = plt.figure()\n",
      "ax = fig.add_subplot(111)\n",
      "p = ax.scatter(xs, ys, c=range(len(xs)) ,edgecolor='w', s=200)\n",
      "\n",
      "plt.show()"
     ],
     "language": "python",
     "metadata": {},
     "outputs": [],
     "prompt_number": 2
    },
    {
     "cell_type": "code",
     "collapsed": false,
     "input": [
      "p.get_offsets()"
     ],
     "language": "python",
     "metadata": {},
     "outputs": [
      {
       "metadata": {},
       "output_type": "pyout",
       "prompt_number": 4,
       "text": [
        "array([[0, 0],\n",
        "       [1, 5],\n",
        "       [2, 1],\n",
        "       [3, 4],\n",
        "       [4, 2],\n",
        "       [5, 3]])"
       ]
      }
     ],
     "prompt_number": 4
    },
    {
     "cell_type": "code",
     "collapsed": false,
     "input": [
      "xs = [0, 1, 2, 3, 4, 5, 6, 7, 8, 9]\n",
      "ys = [5, 6, 4, 7, 3, 8, 2, 9, 1, 10]\n",
      "both=np.array([xs, ys]).transpose()"
     ],
     "language": "python",
     "metadata": {},
     "outputs": [],
     "prompt_number": 30
    },
    {
     "cell_type": "code",
     "collapsed": false,
     "input": [
      "both"
     ],
     "language": "python",
     "metadata": {},
     "outputs": [
      {
       "metadata": {},
       "output_type": "pyout",
       "prompt_number": 31,
       "text": [
        "array([[ 0,  5],\n",
        "       [ 1,  6],\n",
        "       [ 2,  4],\n",
        "       [ 3,  7],\n",
        "       [ 4,  3],\n",
        "       [ 5,  8],\n",
        "       [ 6,  2],\n",
        "       [ 7,  9],\n",
        "       [ 8,  1],\n",
        "       [ 9, 10]])"
       ]
      }
     ],
     "prompt_number": 31
    },
    {
     "cell_type": "code",
     "collapsed": false,
     "input": [
      "import numpy as np\n",
      "from mpl_toolkits.mplot3d import Axes3D\n",
      "import matplotlib.pyplot as plt\n",
      "#pylab.rcParams['figure.figsize'] = (10.0, 8.0)\n",
      "fig = plt.figure()\n",
      "ax = fig.add_subplot(111)\n",
      "p = ax.scatter(xs,\n",
      "               ys,\n",
      "               c=range(len(xs)),\n",
      "               edgecolor='w',\n",
      "               s=np.array([100,200,300,400,500,600]))\n",
      "p.set_offsets(both)\n",
      "p.set_array(np.array([1,1,1,1,1,1]))\n",
      "#p.set_pickradius(np.array([900, 800,700,600,500,400,300,200,100]))\n",
      "plt.show()"
     ],
     "language": "python",
     "metadata": {},
     "outputs": [],
     "prompt_number": 40
    },
    {
     "cell_type": "code",
     "collapsed": false,
     "input": [
      "p.set_"
     ],
     "language": "python",
     "metadata": {},
     "outputs": []
    },
    {
     "cell_type": "code",
     "collapsed": false,
     "input": [
      "p.get_sizes()"
     ],
     "language": "python",
     "metadata": {},
     "outputs": [
      {
       "metadata": {},
       "output_type": "pyout",
       "prompt_number": 41,
       "text": [
        "array([100, 200, 300, 400, 500, 600])"
       ]
      }
     ],
     "prompt_number": 41
    },
    {
     "cell_type": "code",
     "collapsed": false,
     "input": [
      "import pylab\n",
      "pylab.pi*(10 * pylab.rand(6))**2"
     ],
     "language": "python",
     "metadata": {},
     "outputs": [
      {
       "metadata": {},
       "output_type": "pyout",
       "prompt_number": 22,
       "text": [
        "array([ 172.62315125,  214.68543835,   78.78338124,   75.83434898,\n",
        "        104.02490438,  236.59089761])"
       ]
      }
     ],
     "prompt_number": 22
    }
   ],
   "metadata": {}
  }
 ]
}