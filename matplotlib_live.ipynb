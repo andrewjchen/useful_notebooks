{
 "metadata": {
  "name": ""
 },
 "nbformat": 3,
 "nbformat_minor": 0,
 "worksheets": [
  {
   "cells": [
    {
     "cell_type": "markdown",
     "metadata": {},
     "source": [
      "matplotlib_live\n",
      "===============\n",
      "\n",
      "Demonstrates matplotlib with data changing dynamically,\n",
      "without gui hangup.\n",
      "\n",
      "\n",
      "Not obvious how to do this with matplotlib.\n",
      "\n",
      "As per [http://stackoverflow.com/questions/2604119/matplotlib-pyplot-pylab-not-updating-figure-while-isinteractive-using-ipython](http://stackoverflow.com/questions/2604119/matplotlib-pyplot-pylab-not-updating-figure-while-isinteractive-using-ipython), the solution is pasted below:\n"
     ]
    },
    {
     "cell_type": "code",
     "collapsed": true,
     "input": [
      "import pylab\n",
      "import time\n",
      "pylab.ion()\n",
      "tstart = time.time()               # for profiling\n",
      "x = pylab.arange(0,2*pylab.pi,0.01)            # x-array\n",
      "\n",
      "line, = pylab.plot(x,pylab.sin(x))\n",
      "for i in range(1,200):\n",
      "    line.set_ydata(pylab.sin(x+i/10.0))  # update the data\n",
      "    pylab.draw()                         # redraw the canvas\n",
      "    pylab.pause(0.01)\n",
      "print 'FPS:' , 200/(time.time()-tstart)\n",
      "pylab.ioff()\n",
      "pylab.show()"
     ],
     "language": "python",
     "metadata": {},
     "outputs": []
    },
    {
     "cell_type": "markdown",
     "metadata": {},
     "source": [
      "Next cell randomly populates a scatter plot, forever."
     ]
    },
    {
     "cell_type": "code",
     "collapsed": false,
     "input": [
      "import pylab\n",
      "import numpy as np\n",
      "import time\n",
      "\n",
      "pylab.ion()\n",
      "tstart = time.time()               # for profiling\n",
      "x = pylab.arange(0,2*pylab.pi,0.01)            # x-array\n",
      "\n",
      "line = pylab.scatter(np.linspace(0, 1, 100),\n",
      "                     np.random.rand(100),\n",
      "                     c=range(100),\n",
      "                     edgecolor='w')\n",
      "while True:\n",
      "    data = np.array([np.random.rand(100),\n",
      "                     np.random.rand(100)]).transpose()\n",
      "    line.set_offsets(data)\n",
      "    pylab.draw()\n",
      "    pylab.pause(0.01)\n",
      "pylab.ioff()\n",
      "pylab.show()"
     ],
     "language": "python",
     "metadata": {},
     "outputs": [],
     "prompt_number": "*"
    }
   ],
   "metadata": {}
  }
 ]
}