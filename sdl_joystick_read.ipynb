{
 "metadata": {
  "name": ""
 },
 "nbformat": 3,
 "nbformat_minor": 0,
 "worksheets": [
  {
   "cells": [
    {
     "cell_type": "markdown",
     "metadata": {},
     "source": [
      "sdl_joystick_read\n",
      "=================\n",
      "\n",
      "joystick reading with SDL."
     ]
    },
    {
     "cell_type": "code",
     "collapsed": false,
     "input": [
      "import IPython.display\n",
      "import sys"
     ],
     "language": "python",
     "metadata": {},
     "outputs": [],
     "prompt_number": 1
    },
    {
     "cell_type": "code",
     "collapsed": false,
     "input": [
      "import sdl2\n",
      "import sdl2.ext\n",
      "import time\n",
      "sdl2.SDL_Init(sdl2.SDL_INIT_VIDEO)\n",
      "sdl2.SDL_Init(sdl2.SDL_INIT_JOYSTICK)\n",
      "joystick = sdl2.SDL_JoystickOpen(0)\n",
      "\n",
      "while True:\n",
      "    sdl2.SDL_PumpEvents()\n",
      "    IPython.display.clear_output()\n",
      "    for i in range(sdl2.SDL_JoystickNumAxes(joystick)):\n",
      "        val = sdl2.SDL_JoystickGetAxis(joystick,i) / 32768.0\n",
      "        print ('axis {0}, val={1}'.format(i,val))\n",
      "    time.sleep(.01)"
     ],
     "language": "python",
     "metadata": {},
     "outputs": [
      {
       "ename": "KeyboardInterrupt",
       "evalue": "",
       "output_type": "pyerr",
       "traceback": [
        "\u001b[1;31m---------------------------------------------------------------------------\u001b[0m\n\u001b[1;31mKeyboardInterrupt\u001b[0m                         Traceback (most recent call last)",
        "\u001b[1;32m<ipython-input-3-31f188e2aadf>\u001b[0m in \u001b[0;36m<module>\u001b[1;34m()\u001b[0m\n\u001b[0;32m     12\u001b[0m         \u001b[0mval\u001b[0m \u001b[1;33m=\u001b[0m \u001b[0msdl2\u001b[0m\u001b[1;33m.\u001b[0m\u001b[0mSDL_JoystickGetAxis\u001b[0m\u001b[1;33m(\u001b[0m\u001b[0mjoystick\u001b[0m\u001b[1;33m,\u001b[0m\u001b[0mi\u001b[0m\u001b[1;33m)\u001b[0m \u001b[1;33m/\u001b[0m \u001b[1;36m32768.0\u001b[0m\u001b[1;33m\u001b[0m\u001b[0m\n\u001b[0;32m     13\u001b[0m         \u001b[1;32mprint\u001b[0m \u001b[1;33m(\u001b[0m\u001b[1;34m'axis {0}, val={1}'\u001b[0m\u001b[1;33m.\u001b[0m\u001b[0mformat\u001b[0m\u001b[1;33m(\u001b[0m\u001b[0mi\u001b[0m\u001b[1;33m,\u001b[0m\u001b[0mval\u001b[0m\u001b[1;33m)\u001b[0m\u001b[1;33m)\u001b[0m\u001b[1;33m\u001b[0m\u001b[0m\n\u001b[1;32m---> 14\u001b[1;33m     \u001b[0mtime\u001b[0m\u001b[1;33m.\u001b[0m\u001b[0msleep\u001b[0m\u001b[1;33m(\u001b[0m\u001b[1;36m.01\u001b[0m\u001b[1;33m)\u001b[0m\u001b[1;33m\u001b[0m\u001b[0m\n\u001b[0m",
        "\u001b[1;31mKeyboardInterrupt\u001b[0m: "
       ]
      },
      {
       "output_type": "stream",
       "stream": "stdout",
       "text": [
        "axis 0, val=0.0\n",
        "axis 1, val=-3.0517578125e-05\n",
        "axis 2, val=-1.0\n",
        "axis 3, val=0.0\n",
        "axis 4, val=-3.0517578125e-05\n",
        "axis 5, val=-1.0\n"
       ]
      }
     ],
     "prompt_number": 3
    },
    {
     "cell_type": "code",
     "collapsed": false,
     "input": [],
     "language": "python",
     "metadata": {},
     "outputs": []
    }
   ],
   "metadata": {}
  }
 ]
}