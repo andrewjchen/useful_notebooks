{
 "metadata": {
  "name": ""
 },
 "nbformat": 3,
 "nbformat_minor": 0,
 "worksheets": [
  {
   "cells": [
    {
     "cell_type": "markdown",
     "metadata": {},
     "source": [
      "matplotlib_live_tk\n",
      "==================\n",
      "\n",
      "Demonstrates matplotlib with "
     ]
    },
    {
     "cell_type": "code",
     "collapsed": false,
     "input": [
      "import matplotlib\n",
      "matplotlib.use('TkAgg')\n",
      "\n",
      "from matplotlib.backends.backend_tkagg import FigureCanvasTkAgg, NavigationToolbar2TkAgg\n",
      "from matplotlib.figure import Figure\n",
      "from mpl_toolkits.mplot3d import Axes3D\n",
      "import matplotlib.pyplot as plt\n",
      "import random\n",
      "import numpy as np\n",
      "import sys\n",
      "import Tkinter as tk\n",
      "import time\n",
      "\n",
      "class App():\n",
      "    \n",
      "    def __init__(self):\n",
      "        self.root = tk.Tk()\n",
      "        self.root.wm_title(\"Embedding in TK\")\n",
      "\n",
      "        self.fig = plt.figure()\n",
      "        self.ax = self.fig.add_subplot(111)\n",
      "        self.ax.set_xlabel('X')\n",
      "        self.ax.set_ylabel('Y')\n",
      "        self.scat = self.ax.scatter(np.linspace(0, 100, 10), np.random.random_sample(10),c=range(10),edgecolor='w')\n",
      "        #self.fig = function1(self.fig, self.ax)\n",
      "\n",
      "        self.canvas = FigureCanvasTkAgg(self.fig, master=self.root)\n",
      "        self.toolbar = NavigationToolbar2TkAgg(self.canvas, self.root )\n",
      "        self.toolbar.update()\n",
      "        self.canvas._tkcanvas.pack(side=tk.TOP, fill=tk.BOTH, expand=1)\n",
      "\n",
      "        self.label = tk.Label(text=\"\")\n",
      "        self.label.pack()\n",
      "        self.update_clock()\n",
      "        self.root.mainloop()\n",
      "\n",
      "    def update_clock(self):\n",
      "        #self.fig = function1(self.fig,self.ax)\n",
      "        \n",
      "        '''\n",
      "        self.ax.scatter(np.linspace(0, 100, 10),\n",
      "                        np.random.random_sample(10),\n",
      "                        c=range(10),\n",
      "                        edgecolor='w')\n",
      "        '''\n",
      "        xs = np.linspace(0, 100, 10)\n",
      "        ys = np.random.random_sample(10)\n",
      "        data = np.array([xs, ys]).transpose()\n",
      "        self.scat.set_offsets(data)\n",
      "        self.canvas.show()\n",
      "        self.canvas._tkcanvas.pack(side=tk.TOP, fill=tk.BOTH, expand=1)\n",
      "        now = time.strftime(\"%H:%M:%S\")\n",
      "        self.label.configure(text=now)\n",
      "        self.root.after(10, self.update_clock)\n",
      "\n",
      "app=App()"
     ],
     "language": "python",
     "metadata": {},
     "outputs": [],
     "prompt_number": "*"
    },
    {
     "cell_type": "code",
     "collapsed": false,
     "input": [
      "import matplotlib\n",
      "matplotlib.use('TkAgg')\n",
      "\n",
      "from matplotlib.backends.backend_tkagg import FigureCanvasTkAgg, NavigationToolbar2TkAgg\n",
      "from matplotlib.figure import Figure\n",
      "from mpl_toolkits.mplot3d import Axes3D\n",
      "import matplotlib.pyplot as plt\n",
      "import random\n",
      "import numpy as np\n",
      "import sys\n",
      "import Tkinter as tk\n",
      "import time\n",
      "\n",
      "class App():\n",
      "    \n",
      "    def __init__(self):\n",
      "        self.root = tk.Tk()\n",
      "        self.root.protocol(\"WM_DELETE_WINDOW\", self.quit)\n",
      "        self.root.wm_title(\"Embedding in TK\")\n",
      "\n",
      "        self.fig = plt.figure()\n",
      "        self.ax = self.fig.add_subplot(111)\n",
      "        self.ax.set_xlabel('X')\n",
      "        self.ax.set_ylabel('Y')\n",
      "        self.scat = self.ax.scatter(np.linspace(0, 100, 10), np.random.random_sample(10),c=range(10),edgecolor='w')\n",
      "        #self.fig = function1(self.fig, self.ax)\n",
      "\n",
      "        self.canvas = j(self.fig, master=self.root)\n",
      "        self.toolbar = NavigationToolbar2TkAgg(self.canvas, self.root )\n",
      "        self.toolbar.update()\n",
      "        self.canvas._tkcanvas.pack(side=tk.TOP, fill=tk.BOTH, expand=1)\n",
      "\n",
      "        self.label = tk.Label(text=\"\")\n",
      "        self.label.pack()\n",
      "        self.update_clock()\n",
      "        \n",
      "    def quit(self):\n",
      "        self.root.quit()\n",
      "\n",
      "    def update_clock(self):\n",
      "        #self.fig = function1(self.fig,self.ax)\n",
      "        \n",
      "        '''\n",
      "        self.ax.scatter(np.linspace(0, 100, 10),\n",
      "                        np.random.random_sample(10),\n",
      "                        c=range(10),\n",
      "                        edgecolor='w')\n",
      "        '''\n",
      "        xs = np.linspace(0, 100, 10)\n",
      "        ys = np.random.random_sample(10)\n",
      "        data = np.array([xs, ys]).transpose()\n",
      "        self.scat.set_offsets(data)\n",
      "        self.canvas.show()\n",
      "        self.canvas._tkcanvas.pack(side=tk.TOP, fill=tk.BOTH, expand=1)\n",
      "        now = time.strftime(\"%H:%M:%S\")\n",
      "        self.label.configure(text=now)\n",
      "        self.root.after(10, self.update_clock)\n",
      "  \n",
      "    "
     ],
     "language": "python",
     "metadata": {},
     "outputs": [],
     "prompt_number": 3
    },
    {
     "cell_type": "code",
     "collapsed": false,
     "input": [
      "app=App()"
     ],
     "language": "python",
     "metadata": {},
     "outputs": [],
     "prompt_number": 4
    },
    {
     "cell_type": "code",
     "collapsed": false,
     "input": [
      "app.root.__doc__"
     ],
     "language": "python",
     "metadata": {},
     "outputs": [
      {
       "metadata": {},
       "output_type": "pyout",
       "prompt_number": 12,
       "text": [
        "'Toplevel widget of Tk which represents mostly the main window\\n    of an application. It has an associated Tcl interpreter.'"
       ]
      }
     ],
     "prompt_number": 12
    },
    {
     "cell_type": "code",
     "collapsed": false,
     "input": [
      "while True:\n",
      "    try:\n",
      "        app.root.update()\n",
      "    except KeyboardInterrupt:\n",
      "        print \"ctrl-c detected! Quitting..\"\n",
      "        app.root.quit()\n",
      "        #app.root.destroy()\n",
      "        sys.exit(0)\n",
      "        print \"quit successful.\""
     ],
     "language": "python",
     "metadata": {},
     "outputs": [
      {
       "ename": "SystemExit",
       "evalue": "0",
       "output_type": "pyerr",
       "traceback": [
        "An exception has occurred, use %tb to see the full traceback.\n",
        "\u001b[1;31mSystemExit\u001b[0m\u001b[1;31m:\u001b[0m 0\n"
       ]
      },
      {
       "output_type": "stream",
       "stream": "stdout",
       "text": [
        "ctrl-c detected! Quitting..\n"
       ]
      },
      {
       "output_type": "stream",
       "stream": "stderr",
       "text": [
        "To exit: use 'exit', 'quit', or Ctrl-D.\n"
       ]
      }
     ],
     "prompt_number": 5
    },
    {
     "cell_type": "code",
     "collapsed": false,
     "input": [
      "app.root.destroy()"
     ],
     "language": "python",
     "metadata": {},
     "outputs": [],
     "prompt_number": 13
    },
    {
     "cell_type": "code",
     "collapsed": false,
     "input": [],
     "language": "python",
     "metadata": {},
     "outputs": []
    }
   ],
   "metadata": {}
  }
 ]
}