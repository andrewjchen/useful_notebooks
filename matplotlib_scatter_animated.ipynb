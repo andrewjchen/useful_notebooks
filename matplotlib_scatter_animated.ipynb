{
 "metadata": {
  "name": ""
 },
 "nbformat": 3,
 "nbformat_minor": 0,
 "worksheets": [
  {
   "cells": [
    {
     "cell_type": "markdown",
     "metadata": {},
     "source": [
      "matplotlib_scatter_animated\n",
      "===========================\n",
      "\n",
      "Code to play with matplotlib scatter plots in update mode.\n",
      "\n",
      "Not so useful compared to matplotlib_scatter_edit."
     ]
    },
    {
     "cell_type": "code",
     "collapsed": false,
     "input": [
      "import matplotlib.pyplot as plt\n",
      "import matplotlib.animation as animation\n",
      "import numpy as np\n",
      "import os\n",
      "n = 25 ## nr of agentsz\n",
      "x,y = 10, 10 ## matrix of x by y dimension\n",
      "dataX, dataY, binaryRaster = [],[],[]"
     ],
     "language": "python",
     "metadata": {},
     "outputs": [],
     "prompt_number": 56
    },
    {
     "cell_type": "code",
     "collapsed": false,
     "input": [
      "def createRandomData():\n",
      "    \"\"\"Positions n agents randomly on a raster of x by y cells.\n",
      "    Each cell can only hold a single agent.\"\"\"\n",
      "    \n",
      "    global x,y,n\n",
      "    binaryData = np.zeros((x,y), dtype=np.int)\n",
      "    newAgents = 0\n",
      "    dataX,dataY = [],[]\n",
      "    while newAgents < n:\n",
      "        row = np.random.randint(0,x,1)[0]\n",
      "        col = np.random.randint(0,y,1)[0]\n",
      "        if binaryData[row][col] != 1:\n",
      "            binaryData[row][col] = 1\n",
      "            newAgents+=1\n",
      "\n",
      "    for row in range(x):\n",
      "        for col in range(y):\n",
      "            if binaryData[row][col] == 1:\n",
      "                dataX.append(row)\n",
      "                dataY.append(col)\n",
      "    return dataX, dataY"
     ],
     "language": "python",
     "metadata": {},
     "outputs": [],
     "prompt_number": 57
    },
    {
     "cell_type": "code",
     "collapsed": false,
     "input": [
      "def data_stream():\n",
      "    \"\"\"Generate a random walk (brownian motion). Data is scaled to produce\n",
      "    a soft \"flickering\" effect.\"\"\"\n",
      "    global x,y, n\n",
      "\n",
      "    dataX,dataY = createRandomData()\n",
      "\n",
      "    #printing results to ascii for validation\n",
      "    lines = []\n",
      "    binaryData = np.zeros((x,y), dtype=np.int)\n",
      "    for i in range(n):\n",
      "        binaryData[dataX,dataY] =1\n",
      "    for i in range(x):\n",
      "        line = \"\"\n",
      "        for j in range(y):\n",
      "            line += str(binaryData[i,j])+ \",\"\n",
      "        line= line[:-1]+ \"\\n\"\n",
      "        lines.append(line)\n",
      "    lines.append(\"\\n\")\n",
      "\n",
      "    yx = np.array([dataY,dataX])\n",
      "    cnt = 0\n",
      "    while cnt < 10:\n",
      "        dataX,dataY = createRandomData()\n",
      "        yx = np.array([dataY,dataX])\n",
      "\n",
      "        #printing results to ascii for validation\n",
      "        binaryData = np.zeros((x,y), dtype=np.int)\n",
      "        for i in range(n):\n",
      "            binaryData[dataX,dataY] =1\n",
      "        for i in range(x):\n",
      "            line = \"\"\n",
      "            for j in range(y):\n",
      "                line += str(binaryData[i,j])+ \",\"\n",
      "            line= line[:-1]+ \"\\n\"\n",
      "            lines.append(line)\n",
      "        lines.append(\"\\n\")\n",
      "\n",
      "        cnt+=1\n",
      "        yield yx\n",
      "\n",
      "    #printing results to ascii for validation\n",
      "\n",
      "    outNm = os.getcwd()+\"\\\\ScatterValidation.txt\"\n",
      "    outfile = open(outNm, \"w\")\n",
      "    outfile.writelines(lines)\n",
      "    outfile.close()\n",
      "    return"
     ],
     "language": "python",
     "metadata": {},
     "outputs": [],
     "prompt_number": 58
    },
    {
     "cell_type": "code",
     "collapsed": false,
     "input": [
      "def setup_plot():\n",
      "    \"\"\"Initial drawing of the scatter plot.\"\"\"\n",
      "    global x,y\n",
      "    global scat\n",
      "    dataX,dataY = next(stream)\n",
      "    scat = ax.scatter(dataY, dataX, c=\"tomato\", s=20, animated=True)\n",
      "    ax.axis([0, y, x, 0])\n",
      "    return scat,"
     ],
     "language": "python",
     "metadata": {},
     "outputs": [],
     "prompt_number": 59
    },
    {
     "cell_type": "code",
     "collapsed": false,
     "input": [
      "def update(i):\n",
      "    global data, ax\n",
      "    \"\"\"Update the scatter plot.\"\"\"\n",
      "    '''\n",
      "    data = next(stream)\n",
      "    scat.set_offsets(data.transpose())\n",
      "    print scat.get_offsets()\n",
      "    '''\n",
      "    dataX, dataY = next(stream)\n",
      "    scat = ax.scatter(dataX, dataY, c=\"tomato\", s=20, animated=True)\n",
      "    return scat,"
     ],
     "language": "python",
     "metadata": {},
     "outputs": [],
     "prompt_number": 60
    },
    {
     "cell_type": "code",
     "collapsed": false,
     "input": [
      "data"
     ],
     "language": "python",
     "metadata": {},
     "outputs": [
      {
       "metadata": {},
       "output_type": "pyout",
       "prompt_number": 61,
       "text": [
        "array([[1, 2, 5, 6, 5, 7, 9, 5, 0, 6, 9, 2, 4, 5, 0, 3, 8, 8, 9, 4, 5, 7,\n",
        "        7, 1, 8],\n",
        "       [0, 0, 0, 0, 1, 1, 1, 2, 3, 3, 3, 4, 4, 4, 5, 5, 5, 6, 6, 7, 7, 7,\n",
        "        8, 9, 9]])"
       ]
      }
     ],
     "prompt_number": 61
    },
    {
     "cell_type": "code",
     "collapsed": false,
     "input": [
      "scat.set_offsets?"
     ],
     "language": "python",
     "metadata": {},
     "outputs": [],
     "prompt_number": 62
    },
    {
     "cell_type": "code",
     "collapsed": false,
     "input": [
      "data.shape"
     ],
     "language": "python",
     "metadata": {},
     "outputs": [
      {
       "metadata": {},
       "output_type": "pyout",
       "prompt_number": 63,
       "text": [
        "(2, 25)"
       ]
      }
     ],
     "prompt_number": 63
    },
    {
     "cell_type": "code",
     "collapsed": false,
     "input": [
      "data[:2, :]"
     ],
     "language": "python",
     "metadata": {},
     "outputs": [
      {
       "metadata": {},
       "output_type": "pyout",
       "prompt_number": 64,
       "text": [
        "array([[1, 2, 5, 6, 5, 7, 9, 5, 0, 6, 9, 2, 4, 5, 0, 3, 8, 8, 9, 4, 5, 7,\n",
        "        7, 1, 8],\n",
        "       [0, 0, 0, 0, 1, 1, 1, 2, 3, 3, 3, 4, 4, 4, 5, 5, 5, 6, 6, 7, 7, 7,\n",
        "        8, 9, 9]])"
       ]
      }
     ],
     "prompt_number": 64
    },
    {
     "cell_type": "code",
     "collapsed": false,
     "input": [],
     "language": "python",
     "metadata": {},
     "outputs": [],
     "prompt_number": 64
    },
    {
     "cell_type": "code",
     "collapsed": false,
     "input": [
      "scat.get_offsets()"
     ],
     "language": "python",
     "metadata": {},
     "outputs": [
      {
       "metadata": {},
       "output_type": "pyout",
       "prompt_number": 65,
       "text": [
        "array([[0, 8],\n",
        "       [1, 0],\n",
        "       [1, 2],\n",
        "       [1, 4],\n",
        "       [2, 1],\n",
        "       [2, 3],\n",
        "       [2, 7],\n",
        "       [2, 9],\n",
        "       [3, 3],\n",
        "       [3, 4],\n",
        "       [4, 5],\n",
        "       [4, 6],\n",
        "       [4, 7],\n",
        "       [4, 8],\n",
        "       [5, 1],\n",
        "       [5, 4],\n",
        "       [5, 5],\n",
        "       [6, 1],\n",
        "       [6, 4],\n",
        "       [7, 0],\n",
        "       [7, 1],\n",
        "       [7, 7],\n",
        "       [7, 8],\n",
        "       [9, 8],\n",
        "       [9, 9]])"
       ]
      }
     ],
     "prompt_number": 65
    },
    {
     "cell_type": "code",
     "collapsed": false,
     "input": [
      "global stream, fig, ax, scat\n",
      "stream = data_stream()\n",
      "fig, ax = plt.subplots()\n",
      "ani = animation.FuncAnimation(fig,\n",
      "                              update,\n",
      "                              interval=100,\n",
      "                              init_func=setup_plot,\n",
      "                              blit=True,\n",
      "                              repeat=True)\n",
      "plt.show()"
     ],
     "language": "python",
     "metadata": {},
     "outputs": [
      {
       "output_type": "stream",
       "stream": "stderr",
       "text": [
        "Exception in Tkinter callback\n",
        "Traceback (most recent call last):\n",
        "  File \"/usr/lib/python2.7/lib-tk/Tkinter.py\", line 1413, in __call__\n",
        "    return self.func(*args)\n",
        "  File \"/usr/lib/pymodules/python2.7/matplotlib/backends/backend_tkagg.py\", line 235, in resize\n",
        "    self.resize_event()\n",
        "  File \"/usr/lib/pymodules/python2.7/matplotlib/backend_bases.py\", line 1554, in resize_event\n",
        "    self.callbacks.process(s, event)\n",
        "  File \"/usr/lib/pymodules/python2.7/matplotlib/cbook.py\", line 262, in process\n",
        "    proxy(*args, **kwargs)\n",
        "  File \"/usr/lib/pymodules/python2.7/matplotlib/cbook.py\", line 192, in __call__\n",
        "    return mtd(*args, **kwargs)\n",
        "  File \"/usr/lib/pymodules/python2.7/matplotlib/animation.py\", line 267, in _handle_resize\n",
        "    self._init_draw()\n",
        "  File \"/usr/lib/pymodules/python2.7/matplotlib/animation.py\", line 469, in _init_draw\n",
        "    self._drawn_artists = self._init_func()\n",
        "  File \"<ipython-input-59-4c3a6dea011d>\", line 5, in setup_plot\n",
        "    dataX,dataY = next(stream)\n",
        "StopIteration\n"
       ]
      }
     ],
     "prompt_number": 66
    },
    {
     "cell_type": "code",
     "collapsed": false,
     "input": [],
     "language": "python",
     "metadata": {},
     "outputs": [],
     "prompt_number": 66
    }
   ],
   "metadata": {}
  }
 ]
}